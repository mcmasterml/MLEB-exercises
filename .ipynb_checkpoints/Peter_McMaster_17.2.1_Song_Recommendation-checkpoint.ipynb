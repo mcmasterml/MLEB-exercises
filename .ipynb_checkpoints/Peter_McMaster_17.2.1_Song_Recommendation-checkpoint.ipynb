{
 "cells": [
  {
   "cell_type": "markdown",
   "id": "88207c79",
   "metadata": {},
   "source": [
    "# Recommendation System for Music"
   ]
  },
  {
   "cell_type": "markdown",
   "id": "5978b2a1",
   "metadata": {},
   "source": [
    "Solution 0: Popularity based Recommender System\n",
    "- most viewed / purchased items are shown. top 10. ranked list.\n",
    "    - drawbacks: not personalized, no context, no item features, not scalable"
   ]
  },
  {
   "cell_type": "markdown",
   "id": "8d343448",
   "metadata": {},
   "source": [
    "Solution 1: Classification Model\n",
    "- i.e. Linear Regression, Naive Bayes\n",
    "- Takes user features & product features & purchase history.\n",
    "- Gives recommendations based on mappings.\n",
    "    - Drawbacks: cold-start problem, not scalable (feature space limited)"
   ]
  },
  {
   "cell_type": "markdown",
   "id": "e65cb9cf",
   "metadata": {},
   "source": [
    "Solution 2: Nearest Neighbor Collaborative Filtering\n",
    "- Use 'History Matrix' (users viewed which movies) and 'Co-occurrence Matrix' (which movies were viewed together by viewers, count this)\n",
    "- Normalize Co-occurrence matrix. (common: Jaccard similarity)"
   ]
  },
  {
   "cell_type": "code",
   "execution_count": 16,
   "id": "323d1827",
   "metadata": {},
   "outputs": [],
   "source": [
    "import pandas as pd\n",
    "import numpy as np"
   ]
  },
  {
   "cell_type": "code",
   "execution_count": 11,
   "id": "fece675c",
   "metadata": {},
   "outputs": [],
   "source": [
    "pd.DataFrame.transpose?"
   ]
  },
  {
   "cell_type": "code",
   "execution_count": 22,
   "id": "0e0c0c41",
   "metadata": {},
   "outputs": [
    {
     "data": {
      "text/html": [
       "<div>\n",
       "<style scoped>\n",
       "    .dataframe tbody tr th:only-of-type {\n",
       "        vertical-align: middle;\n",
       "    }\n",
       "\n",
       "    .dataframe tbody tr th {\n",
       "        vertical-align: top;\n",
       "    }\n",
       "\n",
       "    .dataframe thead th {\n",
       "        text-align: right;\n",
       "    }\n",
       "</style>\n",
       "<table border=\"1\" class=\"dataframe\">\n",
       "  <thead>\n",
       "    <tr style=\"text-align: right;\">\n",
       "      <th></th>\n",
       "      <th>MovieA</th>\n",
       "      <th>MovieB</th>\n",
       "      <th>MovieC</th>\n",
       "    </tr>\n",
       "  </thead>\n",
       "  <tbody>\n",
       "    <tr>\n",
       "      <th>Ted</th>\n",
       "      <td>1</td>\n",
       "      <td>1</td>\n",
       "      <td>1</td>\n",
       "    </tr>\n",
       "    <tr>\n",
       "      <th>Carol</th>\n",
       "      <td>1</td>\n",
       "      <td>0</td>\n",
       "      <td>1</td>\n",
       "    </tr>\n",
       "    <tr>\n",
       "      <th>Bob</th>\n",
       "      <td>1</td>\n",
       "      <td>0</td>\n",
       "      <td>0</td>\n",
       "    </tr>\n",
       "  </tbody>\n",
       "</table>\n",
       "</div>"
      ],
      "text/plain": [
       "       MovieA  MovieB  MovieC\n",
       "Ted         1       1       1\n",
       "Carol       1       0       1\n",
       "Bob         1       0       0"
      ]
     },
     "execution_count": 22,
     "metadata": {},
     "output_type": "execute_result"
    }
   ],
   "source": [
    "# dictionary of users\n",
    "users = {\"Ted\": [1,1,1], \"Carol\":[1,0,1], \"Bob\":[1,0,0]}\n",
    "movies = [\"MovieA\", \"MovieB\", \"MovieC\"]\n",
    "\n",
    "# history matrix\n",
    "hist_df = pd.DataFrame(data=users, index=movies)\n",
    "hist_df = hist_df.transpose()\n",
    "hist_df"
   ]
  },
  {
   "cell_type": "code",
   "execution_count": 58,
   "id": "94d3e464",
   "metadata": {},
   "outputs": [
    {
     "data": {
      "text/plain": [
       "list"
      ]
     },
     "execution_count": 58,
     "metadata": {},
     "output_type": "execute_result"
    }
   ],
   "source": [
    "type(movies)"
   ]
  },
  {
   "cell_type": "code",
   "execution_count": 56,
   "id": "f36309ab",
   "metadata": {},
   "outputs": [
    {
     "data": {
      "text/plain": [
       "0"
      ]
     },
     "execution_count": 56,
     "metadata": {},
     "output_type": "execute_result"
    }
   ],
   "source": [
    "hist_df[\"MovieB\"][2]"
   ]
  },
  {
   "cell_type": "code",
   "execution_count": 42,
   "id": "665d2968",
   "metadata": {},
   "outputs": [
    {
     "data": {
      "text/plain": [
       "0"
      ]
     },
     "execution_count": 42,
     "metadata": {},
     "output_type": "execute_result"
    }
   ],
   "source": [
    "hist_df.iloc[2][0] and hist_df.iloc[2][1]"
   ]
  },
  {
   "cell_type": "code",
   "execution_count": 49,
   "id": "9cbee1ad",
   "metadata": {},
   "outputs": [
    {
     "data": {
      "text/html": [
       "<div>\n",
       "<style scoped>\n",
       "    .dataframe tbody tr th:only-of-type {\n",
       "        vertical-align: middle;\n",
       "    }\n",
       "\n",
       "    .dataframe tbody tr th {\n",
       "        vertical-align: top;\n",
       "    }\n",
       "\n",
       "    .dataframe thead th {\n",
       "        text-align: right;\n",
       "    }\n",
       "</style>\n",
       "<table border=\"1\" class=\"dataframe\">\n",
       "  <thead>\n",
       "    <tr style=\"text-align: right;\">\n",
       "      <th></th>\n",
       "      <th>MovieA</th>\n",
       "      <th>MovieB</th>\n",
       "      <th>MovieC</th>\n",
       "    </tr>\n",
       "  </thead>\n",
       "  <tbody>\n",
       "    <tr>\n",
       "      <th>MovieA</th>\n",
       "      <td>0</td>\n",
       "      <td>0</td>\n",
       "      <td>0</td>\n",
       "    </tr>\n",
       "    <tr>\n",
       "      <th>MovieB</th>\n",
       "      <td>0</td>\n",
       "      <td>0</td>\n",
       "      <td>0</td>\n",
       "    </tr>\n",
       "    <tr>\n",
       "      <th>MovieC</th>\n",
       "      <td>0</td>\n",
       "      <td>0</td>\n",
       "      <td>0</td>\n",
       "    </tr>\n",
       "  </tbody>\n",
       "</table>\n",
       "</div>"
      ],
      "text/plain": [
       "        MovieA  MovieB  MovieC\n",
       "MovieA       0       0       0\n",
       "MovieB       0       0       0\n",
       "MovieC       0       0       0"
      ]
     },
     "execution_count": 49,
     "metadata": {},
     "output_type": "execute_result"
    }
   ],
   "source": [
    "# create co-occurrence matrix\n",
    "co_df = pd.DataFrame(data=np.zeros((3,3)), columns=movies, index=movies, dtype=int)\n",
    "co_df"
   ]
  },
  {
   "cell_type": "code",
   "execution_count": 59,
   "id": "dd08d1f9",
   "metadata": {},
   "outputs": [
    {
     "data": {
      "text/plain": [
       "['MovieA', 'MovieB', 'MovieC']"
      ]
     },
     "execution_count": 59,
     "metadata": {},
     "output_type": "execute_result"
    }
   ],
   "source": [
    "movies"
   ]
  },
  {
   "cell_type": "code",
   "execution_count": 69,
   "id": "4b1661e2",
   "metadata": {},
   "outputs": [
    {
     "data": {
      "text/plain": [
       "['Ted', 'Carol', 'Bob']"
      ]
     },
     "execution_count": 69,
     "metadata": {},
     "output_type": "execute_result"
    }
   ],
   "source": [
    "list(users.keys())"
   ]
  },
  {
   "cell_type": "code",
   "execution_count": 70,
   "id": "8d5c0492",
   "metadata": {},
   "outputs": [
    {
     "name": "stdout",
     "output_type": "stream",
     "text": [
      "MovieA Ted\n",
      "MovieA Carol\n",
      "MovieA Bob\n",
      "MovieB Ted\n",
      "MovieB Carol\n",
      "MovieB Bob\n",
      "MovieC Ted\n",
      "MovieC Carol\n",
      "MovieC Bob\n"
     ]
    }
   ],
   "source": [
    "for movie in movies:\n",
    "    for user in list(users.keys()):\n",
    "        print(movie, user)"
   ]
  },
  {
   "cell_type": "code",
   "execution_count": 71,
   "id": "e695abeb",
   "metadata": {},
   "outputs": [
    {
     "data": {
      "text/html": [
       "<div>\n",
       "<style scoped>\n",
       "    .dataframe tbody tr th:only-of-type {\n",
       "        vertical-align: middle;\n",
       "    }\n",
       "\n",
       "    .dataframe tbody tr th {\n",
       "        vertical-align: top;\n",
       "    }\n",
       "\n",
       "    .dataframe thead th {\n",
       "        text-align: right;\n",
       "    }\n",
       "</style>\n",
       "<table border=\"1\" class=\"dataframe\">\n",
       "  <thead>\n",
       "    <tr style=\"text-align: right;\">\n",
       "      <th></th>\n",
       "      <th>MovieA</th>\n",
       "      <th>MovieB</th>\n",
       "      <th>MovieC</th>\n",
       "    </tr>\n",
       "  </thead>\n",
       "  <tbody>\n",
       "    <tr>\n",
       "      <th>MovieA</th>\n",
       "      <td>0</td>\n",
       "      <td>1</td>\n",
       "      <td>2</td>\n",
       "    </tr>\n",
       "    <tr>\n",
       "      <th>MovieB</th>\n",
       "      <td>1</td>\n",
       "      <td>0</td>\n",
       "      <td>1</td>\n",
       "    </tr>\n",
       "    <tr>\n",
       "      <th>MovieC</th>\n",
       "      <td>2</td>\n",
       "      <td>1</td>\n",
       "      <td>0</td>\n",
       "    </tr>\n",
       "  </tbody>\n",
       "</table>\n",
       "</div>"
      ],
      "text/plain": [
       "        MovieA  MovieB  MovieC\n",
       "MovieA       0       1       2\n",
       "MovieB       1       0       1\n",
       "MovieC       2       1       0"
      ]
     },
     "execution_count": 71,
     "metadata": {},
     "output_type": "execute_result"
    }
   ],
   "source": [
    "# this is disgusting...\n",
    "# honestly, this brute force solution is the best I could do with an hour...\n",
    "\n",
    "# calculate values of co-occurrence matrix\n",
    "AnB = 0\n",
    "AnC = 0\n",
    "BnC = 0\n",
    "for j in range(3):\n",
    "        AnB += (hist_df.iloc[j][0] and hist_df.iloc[j][1]) \n",
    "        AnC += (hist_df.iloc[j][0] and hist_df.iloc[j][2])    \n",
    "        BnC += (hist_df.iloc[j][1] and hist_df.iloc[j][2])\n",
    "for y in range(3):\n",
    "    for x in range(3):\n",
    "        if x == y:\n",
    "            co_df.iloc[y][x] = None\n",
    "        if y == 0 and x == 1:\n",
    "            co_df.iloc[y][x] = AnB\n",
    "        if y == 0 and x == 2:\n",
    "            co_df.iloc[y][x] = AnC\n",
    "        if y == 1 and x == 0:\n",
    "            co_df.iloc[y][x] = AnB\n",
    "        if y == 1 and x == 2:\n",
    "            co_df.iloc[y][x] = BnC\n",
    "        if y == 2 and x == 0:\n",
    "            co_df.iloc[y][x] = AnC\n",
    "        if y == 2 and x == 1:\n",
    "            co_df.iloc[y][x] = BnC\n",
    "co_df"
   ]
  },
  {
   "cell_type": "code",
   "execution_count": null,
   "id": "233cc381",
   "metadata": {},
   "outputs": [],
   "source": []
  },
  {
   "cell_type": "markdown",
   "id": "e477d66e",
   "metadata": {},
   "source": [
    "Solution 3: Model Based Collaborative Filtering (Matrix Factorization)\n",
    "- For Sparse Matrices\n",
    "- helps inefficiencies\n",
    "- identify latent (hidden) features from the input user x itemRatings matrix to represent users and items as vectors in N dimensional space\n",
    "- common method of matrix factorization: Singular Value Decomposition"
   ]
  },
  {
   "cell_type": "code",
   "execution_count": null,
   "id": "2e6ed26a",
   "metadata": {},
   "outputs": [],
   "source": []
  },
  {
   "cell_type": "markdown",
   "id": "7385a635",
   "metadata": {},
   "source": [
    "Performance Metrics for Recommendation Systems:\n",
    "- Mean Absolute Error\n",
    "- Accuracy\n",
    "- ROC Curve"
   ]
  },
  {
   "cell_type": "code",
   "execution_count": null,
   "id": "be600e56",
   "metadata": {},
   "outputs": [],
   "source": []
  },
  {
   "cell_type": "markdown",
   "id": "71e50d30",
   "metadata": {},
   "source": [
    "recap:\n",
    "\n",
    "0. Popularity Based\n",
    "1. Classification Based\n",
    "2. Nearest Neighbor-Based CF\n",
    "3. Matrix Factorization Based CF"
   ]
  },
  {
   "cell_type": "code",
   "execution_count": null,
   "id": "67f029c1",
   "metadata": {},
   "outputs": [],
   "source": []
  },
  {
   "cell_type": "markdown",
   "id": "807098e1",
   "metadata": {},
   "source": [
    "Cold-Start Problem\n",
    "- Use Classification Based (1)"
   ]
  },
  {
   "cell_type": "code",
   "execution_count": null,
   "id": "a400735a",
   "metadata": {},
   "outputs": [],
   "source": []
  },
  {
   "cell_type": "code",
   "execution_count": null,
   "id": "8e874f7c",
   "metadata": {},
   "outputs": [],
   "source": []
  },
  {
   "cell_type": "code",
   "execution_count": null,
   "id": "dcc81a15",
   "metadata": {},
   "outputs": [],
   "source": []
  },
  {
   "cell_type": "code",
   "execution_count": null,
   "id": "a0f5eedb",
   "metadata": {},
   "outputs": [],
   "source": []
  },
  {
   "cell_type": "code",
   "execution_count": null,
   "id": "cfcbf30b",
   "metadata": {},
   "outputs": [],
   "source": []
  }
 ],
 "metadata": {
  "kernelspec": {
   "display_name": "Python 3 (ipykernel)",
   "language": "python",
   "name": "python3"
  },
  "language_info": {
   "codemirror_mode": {
    "name": "ipython",
    "version": 3
   },
   "file_extension": ".py",
   "mimetype": "text/x-python",
   "name": "python",
   "nbconvert_exporter": "python",
   "pygments_lexer": "ipython3",
   "version": "3.11.2"
  }
 },
 "nbformat": 4,
 "nbformat_minor": 5
}
