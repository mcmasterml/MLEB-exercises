{
 "cells": [
  {
   "cell_type": "code",
   "execution_count": 1,
   "id": "4c283d42",
   "metadata": {},
   "outputs": [],
   "source": [
    "from sklearn.metrics.pairwise import cosine_similarity\n",
    "import pandas as pd\n",
    "class SimilarityPredictions(object):\n",
    "    '''This class calculates a similarity matrix from latent embeddings\n",
    "     Input: embeddings - a pandas dataframe of items and latent dimensio\n",
    "    '''\n",
    "    def __init__(self, embeddings):\n",
    "        self.embeddings = embeddings\n",
    "        self.ids = embeddings.index.tolist()\n",
    "\n",
    "    def calculate_cosine_similarity_matrix(self):\n",
    "        '''Calculates a cosine similarity matrix from the embeddings'''\n",
    "        similarity_matrix = pd.DataFrame(cosine_similarity(\n",
    "                                            X=self.embeddings),\n",
    "                                            index=self.ids)\n",
    "        similarity_matrix.columns = self.ids\n",
    "        return similarity_matrix"
   ]
  },
  {
   "cell_type": "code",
   "execution_count": null,
   "id": "cfc827de",
   "metadata": {},
   "outputs": [],
   "source": []
  }
 ],
 "metadata": {
  "kernelspec": {
   "display_name": "alsrec",
   "language": "python",
   "name": "alsrec"
  },
  "language_info": {
   "codemirror_mode": {
    "name": "ipython",
    "version": 3
   },
   "file_extension": ".py",
   "mimetype": "text/x-python",
   "name": "python",
   "nbconvert_exporter": "python",
   "pygments_lexer": "ipython3",
   "version": "3.9.16"
  }
 },
 "nbformat": 4,
 "nbformat_minor": 5
}
